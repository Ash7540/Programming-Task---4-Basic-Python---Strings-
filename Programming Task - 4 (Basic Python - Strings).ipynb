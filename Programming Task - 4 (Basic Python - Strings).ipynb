{
 "cells": [
  {
   "cell_type": "code",
   "execution_count": 3,
   "id": "367f28a7",
   "metadata": {},
   "outputs": [
    {
     "name": "stdout",
     "output_type": "stream",
     "text": [
      "HackerRank.com presents \"Pythonist 2\"\n",
      "hACKERrANK.COM PRESENTS \"pYTHONIST 2\"\n"
     ]
    }
   ],
   "source": [
    "# sWAP cASE\n",
    "def swap_case(s):\n",
    "    answer=''\n",
    "    for a in s :\n",
    "        if a.isupper():\n",
    "            answer =answer+a.lower()\n",
    "        else :\n",
    "            answer =answer+a.upper()\n",
    "    return answer\n",
    "\n",
    "if __name__ == '__main__':\n",
    "    s = input()\n",
    "    result = swap_case(s)\n",
    "    print(result)\n"
   ]
  },
  {
   "cell_type": "code",
   "execution_count": 2,
   "id": "5f9fc1a0",
   "metadata": {},
   "outputs": [
    {
     "name": "stdout",
     "output_type": "stream",
     "text": [
      "this is ashwin\n",
      "this-is-ashwin\n"
     ]
    }
   ],
   "source": [
    "# String Split and Join\n",
    "def split_and_join(line):\n",
    "    # write your code here\n",
    "    line = line.split(\" \")\n",
    "    line = \"-\".join(line)\n",
    "    return line\n",
    "\n",
    "if __name__ == '__main__':\n",
    "    line = input()\n",
    "    result = split_and_join(line)\n",
    "    print(result)"
   ]
  },
  {
   "cell_type": "code",
   "execution_count": 4,
   "id": "4bbb3e01",
   "metadata": {},
   "outputs": [
    {
     "name": "stdout",
     "output_type": "stream",
     "text": [
      "ashwin\n",
      "chavan\n",
      "Hello ashwin chavan! You just delved into python.\n"
     ]
    }
   ],
   "source": [
    "# What's Your Name?\n",
    "def print_full_name(first, last):\n",
    "    # Write your code here\n",
    "    name = 'Hello '+first+' '+last+'! You just delved into python.'\n",
    "    print(name)\n",
    "\n",
    "if __name__ == '__main__':\n",
    "    first_name = input()\n",
    "    last_name = input()\n",
    "    print_full_name(first_name, last_name)"
   ]
  },
  {
   "cell_type": "code",
   "execution_count": 6,
   "id": "e18bc6ba",
   "metadata": {},
   "outputs": [
    {
     "name": "stdout",
     "output_type": "stream",
     "text": [
      "abracadabra\n",
      "5 k\n",
      "abrackdabra\n"
     ]
    }
   ],
   "source": [
    "# Mutations\n",
    "def mutate_string(string, position, character):\n",
    "    output = [i for i in string]\n",
    "    output[position] = character\n",
    "    return \"\".join(i for i in output)\n",
    "\n",
    "if __name__ == '__main__':\n",
    "    s = input()\n",
    "    i, c = input().split()\n",
    "    s_new = mutate_string(s, int(i), c)\n",
    "    print(s_new)"
   ]
  },
  {
   "cell_type": "code",
   "execution_count": 7,
   "id": "276a376f",
   "metadata": {},
   "outputs": [
    {
     "name": "stdout",
     "output_type": "stream",
     "text": [
      "ABCDCDC\n",
      "CDC\n",
      "2\n"
     ]
    }
   ],
   "source": [
    "# Find a string\n",
    "def count_substring(string, sub_string):\n",
    "    ct = 0\n",
    "    while True:\n",
    "        a = string.find(sub_string)\n",
    "        if a>=0:\n",
    "            ct+=1\n",
    "            string = string[a+1:]\n",
    "        else:\n",
    "            break\n",
    "    return ct\n",
    "if __name__ == '__main__':\n",
    "    string = input().strip()\n",
    "    sub_string = input().strip()\n",
    "    \n",
    "    count = count_substring(string, sub_string)\n",
    "    print(count)"
   ]
  },
  {
   "cell_type": "code",
   "execution_count": 8,
   "id": "bb97c667",
   "metadata": {},
   "outputs": [
    {
     "name": "stdout",
     "output_type": "stream",
     "text": [
      "ashwin\n",
      "True\n",
      "True\n",
      "False\n",
      "True\n",
      "False\n"
     ]
    }
   ],
   "source": [
    "# String Validators\n",
    "if __name__ == '__main__':\n",
    "    s = input()\n",
    "    arr = [any(i.isalnum() for i in s),\n",
    "    any(i.isalpha() for i in s), \n",
    "    any(i.isdigit() for i in s),\n",
    "    any(i.islower() for i in s),\n",
    "    any(i.isupper() for i in s)]\n",
    "\n",
    "    res = list(map(str, arr))\n",
    "    print('\\n'.join(res))"
   ]
  },
  {
   "cell_type": "code",
   "execution_count": null,
   "id": "8bac104e",
   "metadata": {},
   "outputs": [],
   "source": [
    "# Text Alignment\n",
    "thick = int(input())\n",
    "c = 'H'\n",
    "\n",
    "#Top Cone\n",
    "for i in range(thick):\n",
    "    print((c*i).rjust(thick-1)+c+(c*i).ljust(thick-1))\n",
    "\n",
    "#Top pillar\n",
    "for j in range(thick+1):\n",
    "    print((c*thick).center(thick*2)+(c*thick).center(thick*6))\n",
    "\n",
    "#Middle \n",
    "for k in range((thick+1)//2):\n",
    "    print((c*thick*5).center(thick*6))    \n",
    "\n",
    "#Bottom pillar\n",
    "for l in range(thick+1):\n",
    "    print((c*thick).center(thick*2)+(c*thick).center(thick*6))    \n",
    "\n",
    "#Bottom cone\n",
    "for m in range(thick):\n",
    "    print(((c*(thick-m-1)).rjust(thick)+c+(c*(thick-m-1)).ljust(thick)).rjust(thick*6))"
   ]
  },
  {
   "cell_type": "code",
   "execution_count": null,
   "id": "1a419ae3",
   "metadata": {},
   "outputs": [],
   "source": [
    "# Text Wrap\n",
    "import textwrap\n",
    "\n",
    "def wrap(string, max_width):\n",
    "    if 0 < len(string) < 1000:\n",
    "        if 0 < max_width < len(string):\n",
    "            return textwrap.fill(string,max_width)\n",
    "\n",
    "if __name__ == '__main__':\n",
    "    string, max_width = input(), int(input())\n",
    "    result = wrap(string, max_width)\n",
    "    print(result)"
   ]
  },
  {
   "cell_type": "code",
   "execution_count": null,
   "id": "357b72b4",
   "metadata": {},
   "outputs": [],
   "source": [
    "# Designer Door Mat\n",
    "def printdoor(A, B):\n",
    "        sym = \".|.\"\n",
    "        # Upper\n",
    "        for i in range((A//2)):\n",
    "            print((sym*((2*i)+1)).center(B, \"-\"))\n",
    "        # Middle \n",
    "        print(\"WELCOME\".center(m,\"-\"))\n",
    "        # Lower \n",
    "        for i in reversed(range((A//2))):\n",
    "                print((sym*((2*i)+1)).center(B, \"-\"))\n",
    "\n",
    "\n",
    "n, m = map(int, input().split())\n",
    "printdoor(n, m)\n"
   ]
  },
  {
   "cell_type": "code",
   "execution_count": null,
   "id": "f405edfd",
   "metadata": {},
   "outputs": [],
   "source": [
    "# String Formatting\n",
    "def print_formatted(number):\n",
    "    length = len(str(bin(number))[2:])\n",
    "    for i in range(1,number+1):\n",
    "      print(\n",
    "           str(i).rjust(length,\" \"),\n",
    "           str(oct(i))[2:].upper().rjust(length,\" \") ,  \n",
    "           str(hex(i))[2:].upper().rjust(length,\" \"),\n",
    "           str(bin(i))[2:].upper().rjust(length,\" \")\n",
    "      )   \n",
    "if __name__ == '__main__':\n",
    "    n = int(input())\n",
    "    print_formatted(n)"
   ]
  },
  {
   "cell_type": "code",
   "execution_count": null,
   "id": "0abbbc16",
   "metadata": {},
   "outputs": [],
   "source": [
    "# Alphabet Rangoli\n",
    "def print_rangoli(size):\n",
    "    bas = '-'.join([chr(i) for i in range(97,123)])\n",
    "    pat = [bas[i*2:size*2-1] for i in range(size)]\n",
    "    pat = pat[::-1] + pat[1:] \n",
    "    for p in pat:\n",
    "        line = p[1:][::-1] + p\n",
    "        print(line.center(size*4-3, '-'))\n",
    "\n",
    "if __name__ == '__main__':\n",
    "    n = int(input())\n",
    "    print_rangoli(n)"
   ]
  },
  {
   "cell_type": "code",
   "execution_count": null,
   "id": "4764e9f8",
   "metadata": {},
   "outputs": [],
   "source": [
    "# Capitalize\n",
    "def solve(s):\n",
    "  string1 = \"\"\n",
    "  for i in range(0, len(s)):\n",
    "        if s[i-1] != \" \":\n",
    "            string1 += s[i]\n",
    "        elif s[i-1] == \" \":\n",
    "            string1 += s[i].upper()\n",
    "  string1 = string1[0].upper() + string1[1:]\n",
    "  return(string1)\n",
    "\n",
    "if __name__ == '__main__':\n",
    "    fptr = open(os.environ['OUTPUT_PATH'], 'w')\n",
    "\n",
    "    s = input()\n",
    "\n",
    "    result = solve(s)\n",
    "\n",
    "    fptr.write(result + '\\n')\n",
    "\n",
    "    fptr.close()"
   ]
  },
  {
   "cell_type": "code",
   "execution_count": null,
   "id": "164d7825",
   "metadata": {},
   "outputs": [],
   "source": [
    "# The Minion Game\n",
    "def minion_game(string):\n",
    "    # your code goes here\n",
    "    vowwl = ['A', 'E', 'I', 'O', 'U']\n",
    "    scoreKevin = 0\n",
    "    scoreStuart = 0\n",
    "    for i in range(len(s)):\n",
    "      if (string[i] in vowel):\n",
    "        scoreKevin = scoreKevin +len(string) - i\n",
    "      else:\n",
    "        scoreStuart = scoreStuart + len(string) -i\n",
    "      \n",
    "    if (scoreKevin == scoreStuart):\n",
    "      print('Draw')\n",
    "    else:\n",
    "      winner = max([scoreKevin, scoreStuart])\n",
    "      if (winner == scoreStuart):\n",
    "        print(\"Stuart\", scoreStuart)\n",
    "      else:\n",
    "        print(\"Kevin\", scoreKevin)    \n",
    "\n",
    "if __name__ == '__main__':\n",
    "    s = input()\n",
    "    minion_game(s)"
   ]
  },
  {
   "cell_type": "code",
   "execution_count": null,
   "id": "c0eca854",
   "metadata": {},
   "outputs": [],
   "source": [
    "# Merge the Tools\n",
    "\n",
    "def merge_the_tools(string, k):\n",
    "    # your code goes here\n",
    "    if k == 1:\n",
    "      for x in string:\n",
    "        print(x)\n",
    "      return\n",
    "    else:\n",
    "      lis1 = []\n",
    "      for i in range(k):\n",
    "        x = string[k * i: k * i + k]\n",
    "        lis1.append(x)\n",
    "      for i in lis1:\n",
    "        a = ''\n",
    "        for word in i:\n",
    "            if word not in a:\n",
    "                a+=word\n",
    "            else:\n",
    "                continue\n",
    "        print(a)\n",
    "\n",
    "if __name__ == '__main__':\n",
    "    string, k = input(), int(input())\n",
    "    merge_the_tools(string, k)"
   ]
  }
 ],
 "metadata": {
  "kernelspec": {
   "display_name": "Python 3 (ipykernel)",
   "language": "python",
   "name": "python3"
  },
  "language_info": {
   "codemirror_mode": {
    "name": "ipython",
    "version": 3
   },
   "file_extension": ".py",
   "mimetype": "text/x-python",
   "name": "python",
   "nbconvert_exporter": "python",
   "pygments_lexer": "ipython3",
   "version": "3.9.12"
  }
 },
 "nbformat": 4,
 "nbformat_minor": 5
}
